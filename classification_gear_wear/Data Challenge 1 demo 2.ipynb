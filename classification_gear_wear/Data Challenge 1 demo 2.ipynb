{
 "cells": [
  {
   "cell_type": "code",
   "execution_count": 1,
   "id": "430bf881",
   "metadata": {},
   "outputs": [],
   "source": [
    "import tensorflow as tf\n",
    "import numpy as np\n",
    "import pandas as pd\n",
    "import scipy.io\n",
    "import matplotlib.pyplot as plt"
   ]
  },
  {
   "cell_type": "code",
   "execution_count": 2,
   "id": "c402d95c",
   "metadata": {},
   "outputs": [],
   "source": [
    "Normal_DIR = \".\\Bearing Vibration signals for Classification\\Train/N97.mat\"\n",
    "B007_DIR = \".\\Bearing Vibration signals for Classification\\Train/B118.mat\"\n",
    "IR007_DIR = \".\\Bearing Vibration signals for Classification\\Train/I105.mat\"\n",
    "OR007_DIR = \".\\Bearing Vibration signals for Classification\\Train/O130.mat\"\n",
    "Normal=scipy.io.loadmat(Normal_DIR)['X097_DE_time'].transpose()[0] \n",
    "Inner=scipy.io.loadmat(IR007_DIR)['X105_DE_time'].transpose()[0] \n",
    "Outer=scipy.io.loadmat(OR007_DIR)['X130_DE_time'].transpose()[0]\n",
    "Ball=scipy.io.loadmat(B007_DIR)['X118_DE_time'].transpose()[0]"
   ]
  },
  {
   "cell_type": "code",
   "execution_count": 3,
   "id": "7e666bed",
   "metadata": {},
   "outputs": [
    {
     "name": "stdout",
     "output_type": "stream",
     "text": [
      "243938 121265 121991 122571\n"
     ]
    }
   ],
   "source": [
    "lengthNormal = len(Normal);\n",
    "lengthInner = len(Inner);\n",
    "lengthOuter = len(Outer);\n",
    "lengthBall = len(Ball);\n",
    "print(lengthNormal, lengthInner, lengthOuter, lengthBall)\n",
    "# 243938 121265 121991 122571\n"
   ]
  },
  {
   "cell_type": "code",
   "execution_count": 4,
   "id": "c3aa3d12",
   "metadata": {},
   "outputs": [
    {
     "name": "stdout",
     "output_type": "stream",
     "text": [
      "(243500,)\n",
      "(608500,)\n",
      "数据个数： 1217.0\n",
      "(1217, 500)\n",
      "label: [[1 0 0 0]\n",
      " [1 0 0 0]\n",
      " [1 0 0 0]\n",
      " ...\n",
      " [0 0 0 1]\n",
      " [0 0 0 1]\n",
      " [0 0 0 1]]\n",
      "(1217, 4)\n"
     ]
    }
   ],
   "source": [
    "#规范数据长度，并且是每size长度为一条数据\n",
    "size = 500;\n",
    "lengthNormal = lengthNormal - lengthNormal%size;\n",
    "lengthInner = lengthInner - lengthInner%size;\n",
    "lengthOuter = lengthOuter - lengthOuter%size;\n",
    "lengthBall = lengthBall - lengthBall%size;\n",
    "Normal = Normal[0:lengthNormal]\n",
    "Inner = Inner[0:lengthInner]\n",
    "Outer = Outer[0:lengthOuter]\n",
    "Ball = Ball[0:lengthBall]\n",
    "print(Normal.shape)\n",
    "#连接数据集\n",
    "data = []\n",
    "data.extend(Normal);\n",
    "data.extend(Inner);\n",
    "data.extend(Outer);\n",
    "data.extend(Ball);\n",
    "lengthData = lengthNormal + lengthInner + lengthOuter + lengthBall;\n",
    "data = np.array(data);\n",
    "print(data.shape)\n",
    "print('数据个数：',lengthData/size)\n",
    "\n",
    "#将一维数组变成二维（lengthData/size * size）\n",
    "data = data.reshape(int(lengthData/size),size);\n",
    "print(data.shape)\n",
    "\n",
    "#在机器学习中，为了解决分类器不易处理离散数据的问题, 将标签改为one-hot编码形式\n",
    "label = []\n",
    "label.extend([[1,0,0,0] for i in range(0,int(lengthNormal/size))]);\n",
    "label.extend([[0,1,0,0] for i in range(0,int(lengthInner/size))]);\n",
    "label.extend([[0,0,1,0] for i in range(0,int(lengthOuter/size))]);\n",
    "label.extend([[0,0,0,1] for i in range(0,int(lengthBall/size))]);\n",
    "label = np.array(label)\n",
    "print('label:',label)\n",
    "print(label.shape)\n"
   ]
  },
  {
   "cell_type": "code",
   "execution_count": 5,
   "id": "dd921e57",
   "metadata": {},
   "outputs": [],
   "source": [
    "#打乱顺序\n",
    "index = [i for i in range(0,int(lengthData/size))];\n",
    "np.random.shuffle(index);\n",
    "randData = [];\n",
    "randLabel = [];\n",
    "for i in range(0,int(lengthData/size)):\n",
    "    randData.append(data[index[i]]);\n",
    "    randLabel.append(label[index[i]]);\n",
    "randData = np.array(randData);\n",
    "randLabel = np.array(randLabel);\n",
    "\n",
    "#归一化，为了运算方便，减少不必要的消耗\n",
    "dataMean = np.mean(randData)\n",
    "dataStd = np.std(randData)\n",
    "randData -= dataMean\n",
    "randData /= dataStd\n",
    "\n",
    "\n",
    "trainData=randData;\n",
    "trainLabel=randLabel;"
   ]
  },
  {
   "cell_type": "code",
   "execution_count": 6,
   "id": "c611b55b",
   "metadata": {},
   "outputs": [
    {
     "name": "stdout",
     "output_type": "stream",
     "text": [
      "(485500,)\n",
      "(850500,)\n",
      "数据个数： 1701.0\n",
      "(1701, 500)\n",
      "testlabel: [[1 0 0 0]\n",
      " [1 0 0 0]\n",
      " [1 0 0 0]\n",
      " ...\n",
      " [0 0 0 1]\n",
      " [0 0 0 1]\n",
      " [0 0 0 1]]\n",
      "(1701, 4)\n"
     ]
    }
   ],
   "source": [
    "#制作测试数据集\n",
    "Normal_test = \".\\Bearing Vibration signals for Classification\\Test/N100.mat\"\n",
    "B021_test = \".\\Bearing Vibration signals for Classification\\Test/B225.mat\"\n",
    "IR021_test = \".\\Bearing Vibration signals for Classification\\Test/I212.mat\"\n",
    "OR021_test = \".\\Bearing Vibration signals for Classification\\Test/O237.mat\"\n",
    "Normaltest=scipy.io.loadmat(Normal_test)['X100_DE_time'].transpose()[0] \n",
    "Innertest=scipy.io.loadmat(IR021_test)['X212_DE_time'].transpose()[0] \n",
    "Outertest=scipy.io.loadmat(OR021_test)['X237_DE_time'].transpose()[0]\n",
    "Balltest=scipy.io.loadmat(B021_test)['X225_DE_time'].transpose()[0]\n",
    "\n",
    "#规范数据长度，并且是每size长度为一条数据\n",
    "lengthNormal = len(Normaltest);\n",
    "lengthInner = len(Innertest);\n",
    "lengthOuter = len(Outertest);\n",
    "lengthBall = len(Balltest);\n",
    "size = 500;\n",
    "lengthNormal = lengthNormal - lengthNormal%size;\n",
    "lengthInner = lengthInner - lengthInner%size;\n",
    "lengthOuter = lengthOuter - lengthOuter%size;\n",
    "lengthBall = lengthBall - lengthBall%size;\n",
    "Normaltest = Normaltest[0:lengthNormal]\n",
    "Innertest = Innertest[0:lengthInner]\n",
    "Outertest = Outertest[0:lengthOuter]\n",
    "Balltest = Balltest[0:lengthBall]\n",
    "print(Normaltest.shape)\n",
    "#连接数据集\n",
    "testdata = []\n",
    "testdata.extend(Normaltest);\n",
    "testdata.extend(Innertest);\n",
    "testdata.extend(Outertest);\n",
    "testdata.extend(Balltest);\n",
    "lengthtestData = lengthNormal + lengthInner + lengthOuter + lengthBall;\n",
    "testdata = np.array(testdata);\n",
    "print(testdata.shape)\n",
    "print('数据个数：',lengthtestData/size)\n",
    "\n",
    "#将一维数组变成二维（lengthtestData/size * size）\n",
    "testdata = testdata.reshape(int(lengthtestData/size),size);\n",
    "print(testdata.shape)\n",
    "#归一化，为了运算方便，减少不必要的消耗\n",
    "dataMean = np.mean(randData)\n",
    "dataStd = np.std(randData)\n",
    "randData -= dataMean\n",
    "randData /= dataStd\n",
    "\n",
    "\n",
    "trainData=randData;\n",
    "trainLabel=randLabel;\n",
    "#在机器学习中，为了解决分类器不易处理离散数据的问题, 将标签改为one-hot编码形式\n",
    "testlabel = []\n",
    "testlabel.extend([[1,0,0,0] for i in range(0,int(lengthNormal/size))]);\n",
    "testlabel.extend([[0,1,0,0] for i in range(0,int(lengthInner/size))]);\n",
    "testlabel.extend([[0,0,1,0] for i in range(0,int(lengthOuter/size))]);\n",
    "testlabel.extend([[0,0,0,1] for i in range(0,int(lengthBall/size))]);\n",
    "testLabel = np.array(testlabel)\n",
    "print('testlabel:',testLabel)\n",
    "print(testLabel.shape)\n"
   ]
  },
  {
   "cell_type": "code",
   "execution_count": 7,
   "id": "97bdf2d2",
   "metadata": {},
   "outputs": [
    {
     "name": "stdout",
     "output_type": "stream",
     "text": [
      "(1217, 500, 1)\n",
      "(1701, 500, 1)\n"
     ]
    }
   ],
   "source": [
    "#为了方便输入一维神经网络，将训练和测试数据改为(样本数，样本长度，1)的格式\n",
    "trainData = trainData[:,:,np.newaxis]\n",
    "testData = testdata[:,:,np.newaxis]\n",
    "print(trainData.shape)\n",
    "print(testData.shape)\n",
    "input_shape = trainData.shape[1:]"
   ]
  },
  {
   "cell_type": "code",
   "execution_count": 8,
   "id": "cfff1cb9",
   "metadata": {},
   "outputs": [],
   "source": [
    "from tensorflow.keras.layers import Conv1D, Dense, Dropout, BatchNormalization, MaxPooling1D, Activation, Flatten\n",
    "from tensorflow.keras.models import Sequential\n",
    "from tensorflow.keras.regularizers import l2"
   ]
  },
  {
   "cell_type": "code",
   "execution_count": 9,
   "id": "3002b01a",
   "metadata": {},
   "outputs": [
    {
     "name": "stdout",
     "output_type": "stream",
     "text": [
      "Model: \"sequential\"\n",
      "_________________________________________________________________\n",
      "Layer (type)                 Output Shape              Param #   \n",
      "=================================================================\n",
      "conv1d (Conv1D)              (None, 32, 8)             136       \n",
      "_________________________________________________________________\n",
      "activation (Activation)      (None, 32, 8)             0         \n",
      "_________________________________________________________________\n",
      "max_pooling1d (MaxPooling1D) (None, 8, 8)              0         \n",
      "_________________________________________________________________\n",
      "conv1d_1 (Conv1D)            (None, 4, 4)              260       \n",
      "_________________________________________________________________\n",
      "activation_1 (Activation)    (None, 4, 4)              0         \n",
      "_________________________________________________________________\n",
      "max_pooling1d_1 (MaxPooling1 (None, 2, 4)              0         \n",
      "_________________________________________________________________\n",
      "dropout (Dropout)            (None, 2, 4)              0         \n",
      "_________________________________________________________________\n",
      "flatten (Flatten)            (None, 8)                 0         \n",
      "_________________________________________________________________\n",
      "dense (Dense)                (None, 32)                288       \n",
      "_________________________________________________________________\n",
      "dense_1 (Dense)              (None, 4)                 132       \n",
      "=================================================================\n",
      "Total params: 816\n",
      "Trainable params: 816\n",
      "Non-trainable params: 0\n",
      "_________________________________________________________________\n"
     ]
    }
   ],
   "source": [
    "num_classes = 4\n",
    "BatchNorm = True\n",
    "\n",
    "# 实例化序贯模型\n",
    "model = Sequential()\n",
    "\n",
    "# 搭建输入层，第一层卷积。因为要指定input_shape，所以单独放出来\n",
    "model.add(Conv1D(filters=8, kernel_size=16, strides=16, padding='same',kernel_regularizer=l2(1e-4), input_shape=input_shape))\n",
    "model.add(Activation('relu'))\n",
    "model.add(MaxPooling1D(pool_size=4))\n",
    "\n",
    "# 第二层卷积\n",
    "model.add(Conv1D(filters=4, kernel_size=8, strides=2, padding='same',activation=tf.nn.relu))\n",
    "model.add(Activation('relu'))\n",
    "model.add(MaxPooling1D(pool_size=2))\n",
    "model.add(Dropout(rate=0.3))\n",
    "\n",
    "# 从卷积到全连接需要展平\n",
    "model.add(Flatten())\n",
    "\n",
    "# 添加全连接层\n",
    "model.add(Dense(units=32, activation='relu', kernel_regularizer=l2(1e-4)))\n",
    "\n",
    "# 增加输出层\n",
    "model.add(Dense(units=num_classes, activation='softmax', kernel_regularizer=l2(1e-4)))\n",
    "model.summary()\n",
    "\n",
    "\n"
   ]
  },
  {
   "cell_type": "code",
   "execution_count": 10,
   "id": "2d09d5a2",
   "metadata": {
    "scrolled": false
   },
   "outputs": [],
   "source": [
    "#定义优化器为Adam，损失函数为交叉熵损失\n",
    "model.compile(optimizer='adam',loss='categorical_crossentropy',metrics=['accuracy'])"
   ]
  },
  {
   "cell_type": "code",
   "execution_count": 11,
   "id": "51ba0ba4",
   "metadata": {},
   "outputs": [
    {
     "name": "stdout",
     "output_type": "stream",
     "text": [
      "Epoch 1/20\n",
      "16/16 [==============================] - 2s 69ms/step - loss: 1.3565 - accuracy: 0.3698 - val_loss: 1.2876 - val_accuracy: 0.4877\n",
      "Epoch 2/20\n",
      "16/16 [==============================] - 0s 5ms/step - loss: 1.2702 - accuracy: 0.5280 - val_loss: 1.2155 - val_accuracy: 0.5738\n",
      "Epoch 3/20\n",
      "16/16 [==============================] - 0s 5ms/step - loss: 1.1889 - accuracy: 0.5974 - val_loss: 1.1522 - val_accuracy: 0.5738\n",
      "Epoch 4/20\n",
      "16/16 [==============================] - 0s 6ms/step - loss: 1.1375 - accuracy: 0.6005 - val_loss: 1.0696 - val_accuracy: 0.5738\n",
      "Epoch 5/20\n",
      "16/16 [==============================] - 0s 5ms/step - loss: 1.0125 - accuracy: 0.6088 - val_loss: 0.9426 - val_accuracy: 0.5861\n",
      "Epoch 6/20\n",
      "16/16 [==============================] - 0s 5ms/step - loss: 0.8655 - accuracy: 0.6539 - val_loss: 0.7817 - val_accuracy: 0.6270\n",
      "Epoch 7/20\n",
      "16/16 [==============================] - 0s 6ms/step - loss: 0.7502 - accuracy: 0.6439 - val_loss: 0.6458 - val_accuracy: 0.6803\n",
      "Epoch 8/20\n",
      "16/16 [==============================] - 0s 5ms/step - loss: 0.6369 - accuracy: 0.6931 - val_loss: 0.5602 - val_accuracy: 0.7295\n",
      "Epoch 9/20\n",
      "16/16 [==============================] - 0s 5ms/step - loss: 0.5929 - accuracy: 0.7199 - val_loss: 0.5030 - val_accuracy: 0.8484\n",
      "Epoch 10/20\n",
      "16/16 [==============================] - 0s 6ms/step - loss: 0.5397 - accuracy: 0.7693 - val_loss: 0.4501 - val_accuracy: 0.9262\n",
      "Epoch 11/20\n",
      "16/16 [==============================] - 0s 5ms/step - loss: 0.4904 - accuracy: 0.8462 - val_loss: 0.3901 - val_accuracy: 0.9467\n",
      "Epoch 12/20\n",
      "16/16 [==============================] - 0s 5ms/step - loss: 0.4160 - accuracy: 0.8523 - val_loss: 0.3315 - val_accuracy: 0.9713\n",
      "Epoch 13/20\n",
      "16/16 [==============================] - 0s 5ms/step - loss: 0.3895 - accuracy: 0.8721 - val_loss: 0.2832 - val_accuracy: 0.9713\n",
      "Epoch 14/20\n",
      "16/16 [==============================] - 0s 5ms/step - loss: 0.3647 - accuracy: 0.8928 - val_loss: 0.2401 - val_accuracy: 0.9836\n",
      "Epoch 15/20\n",
      "16/16 [==============================] - 0s 5ms/step - loss: 0.3331 - accuracy: 0.9098 - val_loss: 0.2119 - val_accuracy: 0.9795\n",
      "Epoch 16/20\n",
      "16/16 [==============================] - 0s 7ms/step - loss: 0.2722 - accuracy: 0.9326 - val_loss: 0.1934 - val_accuracy: 0.9959\n",
      "Epoch 17/20\n",
      "16/16 [==============================] - 0s 5ms/step - loss: 0.2698 - accuracy: 0.9418 - val_loss: 0.1825 - val_accuracy: 0.9959\n",
      "Epoch 18/20\n",
      "16/16 [==============================] - 0s 5ms/step - loss: 0.2441 - accuracy: 0.9551 - val_loss: 0.1576 - val_accuracy: 0.9959\n",
      "Epoch 19/20\n",
      "16/16 [==============================] - 0s 5ms/step - loss: 0.2081 - accuracy: 0.9712 - val_loss: 0.1410 - val_accuracy: 0.9959\n",
      "Epoch 20/20\n",
      "16/16 [==============================] - 0s 5ms/step - loss: 0.1924 - accuracy: 0.9786 - val_loss: 0.1189 - val_accuracy: 1.0000\n"
     ]
    }
   ],
   "source": [
    "#模型训练，返回history对象，history为字典类型，包含val_loss,val_acc,loss,acc四个key值\n",
    "history=model.fit(trainData, trainLabel, batch_size=64, epochs=20, validation_split=0.2)"
   ]
  },
  {
   "cell_type": "code",
   "execution_count": 12,
   "id": "7d0707c3",
   "metadata": {},
   "outputs": [
    {
     "data": {
      "text/plain": [
       "<matplotlib.legend.Legend at 0x232b8df6fd0>"
      ]
     },
     "execution_count": 12,
     "metadata": {},
     "output_type": "execute_result"
    },
    {
     "data": {
      "image/png": "[encoded data removed]",
      "text/plain": [
       "<Figure size 640x480 with 2 Axes>"
      ]
     },
     "metadata": {},
     "output_type": "display_data"
    }
   ],
   "source": [
    "# 训练结果可视化\n",
    "loss = history.history[\"loss\"]\n",
    "val_loss = history.history[\"val_loss\"]\n",
    "acc = history.history[\"accuracy\"]\n",
    "val_acc = history.history[\"val_accuracy\"]\n",
    "plt.subplot(1,2,1)\n",
    "plt.plot(loss,label = \"Training Loss\")\n",
    "plt.plot(val_loss,label = \"Validation Loss\")\n",
    "plt.title(\"Trainning and Validation Loss\")\n",
    "plt.legend()\n",
    "plt.subplot(1,2,2)\n",
    "plt.plot(acc,label = \"Training Acc\")\n",
    "plt.plot(val_acc,label = \"Validation Acc\")\n",
    "plt.title(\"Training and Validation Acc\")\n",
    "plt.legend()"
   ]
  },
  {
   "cell_type": "code",
   "execution_count": 13,
   "id": "fd08bb05",
   "metadata": {},
   "outputs": [
    {
     "name": "stdout",
     "output_type": "stream",
     "text": [
      "54/54 [==============================] - 0s 1ms/step - loss: 0.9703 - accuracy: 0.6302\n",
      "loss: 0.970285177230835 accuracy: 0.6302174925804138\n"
     ]
    }
   ],
   "source": [
    "#模型评估\n",
    "loss,accuracy = model.evaluate(testData,testLabel)\n",
    "print('loss:',loss,'accuracy:',accuracy)"
   ]
  },
  {
   "cell_type": "code",
   "execution_count": null,
   "id": "1d9922ac",
   "metadata": {},
   "outputs": [],
   "source": []
  }
 ],
 "metadata": {
  "kernelspec": {
   "display_name": "Python 3 (ipykernel)",
   "language": "python",
   "name": "python3"
  },
  "language_info": {
   "codemirror_mode": {
    "name": "ipython",
    "version": 3
   },
   "file_extension": ".py",
   "mimetype": "text/x-python",
   "name": "python",
   "nbconvert_exporter": "python",
   "pygments_lexer": "ipython3",
   "version": "3.8.0"
  },
  "toc": {
   "base_numbering": 1,
   "nav_menu": {},
   "number_sections": true,
   "sideBar": true,
   "skip_h1_title": false,
   "title_cell": "Table of Contents",
   "title_sidebar": "Contents",
   "toc_cell": false,
   "toc_position": {},
   "toc_section_display": true,
   "toc_window_display": false
  }
 },
 "nbformat": 4,
 "nbformat_minor": 5
}
